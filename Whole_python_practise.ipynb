{
 "cells": [
  {
   "cell_type": "code",
   "execution_count": 1,
   "metadata": {},
   "outputs": [],
   "source": [
    "# Introduction to python.\n",
    "\n",
    "# Introduction to variable in python."
   ]
  },
  {
   "cell_type": "code",
   "execution_count": 2,
   "metadata": {},
   "outputs": [
    {
     "name": "stdout",
     "output_type": "stream",
     "text": [
      "mohit\n"
     ]
    }
   ],
   "source": [
    "name='mohit'\n",
    "print(name)"
   ]
  },
  {
   "cell_type": "code",
   "execution_count": 3,
   "metadata": {},
   "outputs": [],
   "source": [
    "# What is variable?\n",
    "\n",
    "# Variables are nothing but the value holders."
   ]
  },
  {
   "cell_type": "code",
   "execution_count": 4,
   "metadata": {},
   "outputs": [],
   "source": [
    "# Rules for declaring the varaiable.\n",
    "\n",
    "#1. There should be no spaces while declaring the variable.\n",
    "\n",
    "#2. variable should not start with the number.\n",
    "\n",
    "#3. Variable should not contain any special character."
   ]
  },
  {
   "cell_type": "code",
   "execution_count": 5,
   "metadata": {},
   "outputs": [
    {
     "name": "stdout",
     "output_type": "stream",
     "text": [
      "mohit\n"
     ]
    }
   ],
   "source": [
    "name='mohit'\n",
    "print(name)"
   ]
  },
  {
   "cell_type": "code",
   "execution_count": 6,
   "metadata": {},
   "outputs": [],
   "source": [
    "# Introduction to Data Types.\n",
    "\n",
    "# String --- str\n",
    "# Numbers --- Integer -- int\n",
    "#             Float -- float.\n",
    "# List --- list\n",
    "# Tuple --- tuple\n",
    "# Dictionary --- dict.\n"
   ]
  },
  {
   "cell_type": "code",
   "execution_count": 7,
   "metadata": {},
   "outputs": [],
   "source": [
    "# Classification of data types.\n",
    "\n",
    "# Data types are classified in two ways.\n",
    "\n",
    "#1. Mutable (flexible) - it can be change or alter after.\n",
    "\n",
    "#2. Immutable (fixed) - it cant be change once it is declared."
   ]
  },
  {
   "cell_type": "code",
   "execution_count": 8,
   "metadata": {},
   "outputs": [],
   "source": [
    "# Introduction to string Data type.\n",
    "\n",
    "#1 String --- Define ---a string is nothing but a series of character enclosed in the quotes.\n",
    "#2.String is immutable.\n",
    "\n",
    "# How to define a string?\n",
    "\n",
    "# String is defined in 3 possible ways.\n",
    "\n",
    "#1. Single Quote.\n",
    "#2. Double Quote.\n",
    "#3. Triple Quote."
   ]
  },
  {
   "cell_type": "code",
   "execution_count": 9,
   "metadata": {},
   "outputs": [
    {
     "name": "stdout",
     "output_type": "stream",
     "text": [
      "mohit\n"
     ]
    }
   ],
   "source": [
    "#1. Single quote.\n",
    "\n",
    "name='mohit'\n",
    "print(name)"
   ]
  },
  {
   "cell_type": "code",
   "execution_count": 10,
   "metadata": {},
   "outputs": [
    {
     "name": "stdout",
     "output_type": "stream",
     "text": [
      "Chandrakant\n"
     ]
    }
   ],
   "source": [
    "#2. Double quote.\n",
    "\n",
    "name1=\"Chandrakant\"\n",
    "print(name1)"
   ]
  },
  {
   "cell_type": "code",
   "execution_count": 11,
   "metadata": {},
   "outputs": [
    {
     "name": "stdout",
     "output_type": "stream",
     "text": [
      "Twinkle, twinkle, little star\n",
      "How I wonder what you are\n",
      "Up above the world so high\n",
      "Like a diamond in the sky\n",
      "Twinkle, twinkle little star\n",
      "How I wonder what you are\n",
      "When the blazing sun is gone\n",
      "When he nothing shines upon\n",
      "Then you show your little light\n",
      "Twinkle, twinkle, all the night\n",
      "Twinkle, twinkle, little star\n",
      "How I wonder what you are\n"
     ]
    }
   ],
   "source": [
    "#3. Triple quote.\n",
    "\n",
    "poem='''Twinkle, twinkle, little star\n",
    "How I wonder what you are\n",
    "Up above the world so high\n",
    "Like a diamond in the sky\n",
    "Twinkle, twinkle little star\n",
    "How I wonder what you are\n",
    "When the blazing sun is gone\n",
    "When he nothing shines upon\n",
    "Then you show your little light\n",
    "Twinkle, twinkle, all the night\n",
    "Twinkle, twinkle, little star\n",
    "How I wonder what you are'''\n",
    "print(poem)"
   ]
  },
  {
   "cell_type": "code",
   "execution_count": 37,
   "metadata": {},
   "outputs": [],
   "source": [
    "# Introduction to list data type.\n",
    "\n",
    "# A list is a collection of item in a particular order enclosed within [].\n",
    "\n",
    "# List is mutable."
   ]
  },
  {
   "cell_type": "code",
   "execution_count": 38,
   "metadata": {},
   "outputs": [
    {
     "name": "stdout",
     "output_type": "stream",
     "text": [
      "['mohit', 'rohit', 'aniket', 'nakul', 'aman', 'abhi', 'saurabh']\n"
     ]
    }
   ],
   "source": [
    "li=['mohit', 'rohit', 'aniket', 'nakul', 'aman', 'abhi', 'saurabh' ]\n",
    "print(li)"
   ]
  },
  {
   "cell_type": "code",
   "execution_count": 39,
   "metadata": {},
   "outputs": [
    {
     "data": {
      "text/plain": [
       "list"
      ]
     },
     "execution_count": 39,
     "metadata": {},
     "output_type": "execute_result"
    }
   ],
   "source": [
    "type(li)"
   ]
  },
  {
   "cell_type": "code",
   "execution_count": 41,
   "metadata": {},
   "outputs": [],
   "source": [
    "# Now how to access the elements from the above list.\n",
    "\n",
    "# Introduction to indexing.\n",
    "\n",
    "# What is indexing?\n",
    "\n",
    "# In backend indexing means to assign the values to the variable.\n",
    "\n",
    "# So how it starts?\n",
    "\n",
    "# 0,1,2,3,4,5,6"
   ]
  },
  {
   "cell_type": "code",
   "execution_count": 42,
   "metadata": {},
   "outputs": [
    {
     "name": "stdout",
     "output_type": "stream",
     "text": [
      "['mohit', 'rohit', 'aniket', 'nakul', 'aman', 'abhi', 'saurabh']\n"
     ]
    }
   ],
   "source": [
    "li=['mohit', 'rohit', 'aniket', 'nakul', 'aman', 'abhi', 'saurabh' ]\n",
    "print(li)"
   ]
  },
  {
   "cell_type": "code",
   "execution_count": 48,
   "metadata": {},
   "outputs": [
    {
     "name": "stdout",
     "output_type": "stream",
     "text": [
      "NAKUL\n",
      "Aniket\n",
      "abhi\n"
     ]
    }
   ],
   "source": [
    "# Now i want to print the variable of position 3.\n",
    "\n",
    "print(li[3].upper())\n",
    "print(li[2].title())\n",
    "print(li[5].lower())"
   ]
  },
  {
   "cell_type": "code",
   "execution_count": 74,
   "metadata": {},
   "outputs": [],
   "source": [
    "li=['mohit, rohit, aniket, nakul, aman, abhi, saurabh']"
   ]
  },
  {
   "cell_type": "code",
   "execution_count": 53,
   "metadata": {},
   "outputs": [
    {
     "name": "stdout",
     "output_type": "stream",
     "text": [
      "mohit, rohit, aniket, nakul, aman, abhi, saurabh\n"
     ]
    }
   ],
   "source": [
    "print(li[0])"
   ]
  },
  {
   "cell_type": "code",
   "execution_count": 73,
   "metadata": {},
   "outputs": [
    {
     "name": "stdout",
     "output_type": "stream",
     "text": [
      "[mohit, rohit, aniket, nakul, aman, abhi, saurabh]\n",
      "[MOHIT, ROHIT, ANIKET, NAKUL, AMAN, ABHI, SAURABH]\n",
      "[Mohit, Rohit, Aniket, Nakul, Aman, Abhi, Saurabh]\n"
     ]
    }
   ],
   "source": [
    "li='[mohit, rohit, aniket, nakul, aman, abhi, saurabh]'\n",
    "print(li)\n",
    "print(li.upper())\n",
    "print(li.title())"
   ]
  },
  {
   "cell_type": "code",
   "execution_count": 69,
   "metadata": {},
   "outputs": [
    {
     "name": "stdout",
     "output_type": "stream",
     "text": [
      "M H O\n",
      ",\n"
     ]
    }
   ],
   "source": [
    "print(li[1].title(),li[3].upper(),li[2].upper())\n",
    "print(li[6])"
   ]
  },
  {
   "cell_type": "code",
   "execution_count": 65,
   "metadata": {},
   "outputs": [
    {
     "name": "stdout",
     "output_type": "stream",
     "text": [
      "r\n",
      "n\n"
     ]
    }
   ],
   "source": [
    "print(li[8])\n",
    "print(li[23])"
   ]
  },
  {
   "cell_type": "code",
   "execution_count": 75,
   "metadata": {},
   "outputs": [
    {
     "name": "stdout",
     "output_type": "stream",
     "text": [
      "['mohit', 'rohit', 'aniket', 'nakul', 'aman', 'abhi', 'saurabh']\n"
     ]
    }
   ],
   "source": [
    "# Now to add new element (charlie)\n",
    "\n",
    "li=['mohit', 'rohit', 'aniket', 'nakul', 'aman', 'abhi', 'saurabh' ]\n",
    "print(li)"
   ]
  },
  {
   "cell_type": "code",
   "execution_count": 12,
   "metadata": {},
   "outputs": [
    {
     "name": "stdout",
     "output_type": "stream",
     "text": [
      " My name is mohit Chandrakant atram\n"
     ]
    }
   ],
   "source": [
    "# introduction to f string.\n",
    "\n",
    "# f\" custom words {place holders}\n",
    "\n",
    "first = 'mohit'\n",
    "middle = 'Chandrakant'\n",
    "last = 'atram'\n",
    "full_name = f\" My name is {first} {middle} {last}\"\n",
    "print(full_name)"
   ]
  },
  {
   "cell_type": "code",
   "execution_count": 13,
   "metadata": {},
   "outputs": [
    {
     "name": "stdout",
     "output_type": "stream",
     "text": [
      " MY NAME IS MOHIT CHANDRAKANT ATRAM\n"
     ]
    }
   ],
   "source": [
    "first = 'mohit'\n",
    "middle = 'Chandrakant'\n",
    "last = 'atram'\n",
    "full_name = f\" My name is {first} {middle} {last}\"\n",
    "print(full_name.upper())"
   ]
  },
  {
   "cell_type": "code",
   "execution_count": 14,
   "metadata": {},
   "outputs": [
    {
     "name": "stdout",
     "output_type": "stream",
     "text": [
      " My name is mohit CHANDRAKANT Atram\n"
     ]
    }
   ],
   "source": [
    "first = 'Mohit'\n",
    "middle = 'Chandrakant'\n",
    "last = 'atram'\n",
    "full_name = f\" My name is {first.lower()} {middle.upper()} {last.title()}\" \n",
    "print(full_name)"
   ]
  },
  {
   "cell_type": "code",
   "execution_count": 15,
   "metadata": {},
   "outputs": [
    {
     "name": "stdout",
     "output_type": "stream",
     "text": [
      " My name is mohit CHANDRAKANT Atram\n"
     ]
    }
   ],
   "source": [
    "first = 'Mohit'\n",
    "middle = 'Chandrakant'\n",
    "last = 'atram'\n",
    "full_name = f\" My name is {first.lower()} {middle.upper()} {last.title()}\" \n",
    "print(full_name)"
   ]
  },
  {
   "cell_type": "code",
   "execution_count": 16,
   "metadata": {},
   "outputs": [
    {
     "name": "stdout",
     "output_type": "stream",
     "text": [
      " My name is mohit   CHANDRAKANT   Atram SHAILA Bharti\n"
     ]
    }
   ],
   "source": [
    "first = 'Mohit'\n",
    "middle = 'Chandrakant'\n",
    "last = 'atram'\n",
    "mother = 'shaila'\n",
    "sister = 'bharti'\n",
    "full_name = f\" My name is {first.lower()}   {middle.upper()}   {last.title()} {mother.upper()} {sister.title()}\" \n",
    "print(full_name)"
   ]
  },
  {
   "cell_type": "code",
   "execution_count": 17,
   "metadata": {},
   "outputs": [
    {
     "name": "stdout",
     "output_type": "stream",
     "text": [
      "mango orange apple guava pineapple kivi\n"
     ]
    }
   ],
   "source": [
    "# Adding spaces to the string.\n",
    "\n",
    "fav_fruit=\"mango orange apple guava pineapple kivi\"\n",
    "print(fav_fruit)"
   ]
  },
  {
   "cell_type": "code",
   "execution_count": 18,
   "metadata": {},
   "outputs": [
    {
     "name": "stdout",
     "output_type": "stream",
     "text": [
      "mango \n",
      "orange \n",
      "apple \n",
      "guava \n",
      "pineapple \n",
      "kivi\n"
     ]
    }
   ],
   "source": [
    "# New Line delimiter.\n",
    "\n",
    "fav_fruit=\"mango \\norange \\napple \\nguava \\npineapple \\nkivi\"\n",
    "print(fav_fruit)"
   ]
  },
  {
   "cell_type": "code",
   "execution_count": 19,
   "metadata": {},
   "outputs": [
    {
     "name": "stdout",
     "output_type": "stream",
     "text": [
      "fav_fruit\n",
      "mango\n",
      "orange\n",
      "apple\n",
      "guava\n",
      "pineapple\n",
      "kivi\n"
     ]
    }
   ],
   "source": [
    "print('fav_fruit'  '\\nmango'  '\\norange'  '\\napple'  '\\nguava'  '\\npineapple'  '\\nkivi')\n"
   ]
  },
  {
   "cell_type": "code",
   "execution_count": 20,
   "metadata": {},
   "outputs": [
    {
     "name": "stdout",
     "output_type": "stream",
     "text": [
      "fav_fruit\n",
      "\tmango\n",
      "\t\torange\n",
      "\t\t\tapple\n",
      "\n",
      "\t\tguava\n",
      "\n",
      "\n",
      "\t\tpineapple\n",
      "kivi\n"
     ]
    }
   ],
   "source": [
    "# New tab delimiter\n",
    "\n",
    "print('fav_fruit'  '\\n\\tmango'  '\\n\\t\\torange'  '\\n\\t\\t\\tapple'  '\\n\\n\\t\\tguava'  '\\n\\n\\n\\t\\tpineapple'  '\\nkivi')\n"
   ]
  },
  {
   "cell_type": "code",
   "execution_count": 21,
   "metadata": {},
   "outputs": [],
   "source": [
    "# To Eliminate white spaces."
   ]
  },
  {
   "cell_type": "code",
   "execution_count": 23,
   "metadata": {},
   "outputs": [
    {
     "name": "stdout",
     "output_type": "stream",
     "text": [
      "      mohit\n",
      "            rohit            \n",
      "                       aniket\n"
     ]
    }
   ],
   "source": [
    "n1='      mohit'\n",
    "n2='            rohit            '\n",
    "n3='                       aniket'\n",
    "\n",
    "print(n1)\n",
    "print(n2)\n",
    "print(n3)"
   ]
  },
  {
   "cell_type": "code",
   "execution_count": null,
   "metadata": {},
   "outputs": [],
   "source": [
    "# To remove the white spaces we use the following method.\n",
    "\n",
    "#1. lstrip() - To remove the white spaces from the left side.\n",
    "\n",
    "#2. rstrip() - To remove the white spaces from the right side.\n",
    "\n",
    "#3. strip() - To remove the white spaces from both side."
   ]
  },
  {
   "cell_type": "code",
   "execution_count": 24,
   "metadata": {},
   "outputs": [
    {
     "name": "stdout",
     "output_type": "stream",
     "text": [
      "      mohit\n",
      "            rohit            \n",
      "                       aniket\n"
     ]
    }
   ],
   "source": [
    "n1='      mohit'\n",
    "n2='            rohit            '\n",
    "n3='                       aniket'\n",
    "\n",
    "print(n1)\n",
    "print(n2)\n",
    "print(n3)"
   ]
  },
  {
   "cell_type": "code",
   "execution_count": 36,
   "metadata": {},
   "outputs": [
    {
     "name": "stdout",
     "output_type": "stream",
     "text": [
      "Mohit\n",
      "            ROHIT\n",
      "Aniket\n",
      "ROHIT\n"
     ]
    }
   ],
   "source": [
    "print(n1.lstrip().title())\n",
    "print(n2.rstrip().upper())\n",
    "print(n3.strip().title())\n",
    "print(n2.strip().upper())"
   ]
  },
  {
   "cell_type": "code",
   "execution_count": 7,
   "metadata": {},
   "outputs": [
    {
     "name": "stdout",
     "output_type": "stream",
     "text": [
      "['mohit', 'rohit', 'aniket', 'nakul', 'aman', 'abhi', 'saurabh', 'charlie']\n"
     ]
    }
   ],
   "source": [
    "ld=['mohit','rohit','aniket','nakul','aman','abhi','saurabh','charlie']\n",
    "print(ld)"
   ]
  },
  {
   "cell_type": "code",
   "execution_count": 9,
   "metadata": {},
   "outputs": [
    {
     "name": "stdout",
     "output_type": "stream",
     "text": [
      "['mohit', 'rohit', 'aniket', 'nakul', 'aman', 'abhi', 'saurabh', 'charlie', 'Rahul']\n"
     ]
    }
   ],
   "source": [
    "# Adding New element at the last position.\n",
    "ld.append('Rahul')\n",
    "print(ld)"
   ]
  },
  {
   "cell_type": "code",
   "execution_count": 10,
   "metadata": {},
   "outputs": [
    {
     "name": "stdout",
     "output_type": "stream",
     "text": [
      "['mohit', 'rohit', 'aniket', 'nakul', 'aman', 'abhi', 'saurabh', 'charlie', 'Rahul']\n"
     ]
    }
   ],
   "source": [
    "# Adding element at our choice of position.\n",
    "\n",
    "print(ld)"
   ]
  },
  {
   "cell_type": "code",
   "execution_count": 11,
   "metadata": {},
   "outputs": [
    {
     "name": "stdout",
     "output_type": "stream",
     "text": [
      "['mohit', 'rohit', 'aniket', 'nakul', 'Rambo', 'aman', 'abhi', 'saurabh', 'charlie', 'Rahul']\n"
     ]
    }
   ],
   "source": [
    "ld.insert(4,'Rambo')\n",
    "print(ld)"
   ]
  },
  {
   "cell_type": "code",
   "execution_count": 12,
   "metadata": {},
   "outputs": [
    {
     "name": "stdout",
     "output_type": "stream",
     "text": [
      "['mohit', 'rohit', 'aniket', 'nakul', 'Rambo', 'aman', 'abhi', 'saurabh', 'charlie', 'Rahul']\n"
     ]
    }
   ],
   "source": [
    "# Deleting the element.\n",
    "\n",
    "print(ld)"
   ]
  },
  {
   "cell_type": "code",
   "execution_count": 14,
   "metadata": {},
   "outputs": [
    {
     "name": "stdout",
     "output_type": "stream",
     "text": [
      "['mohit', 'rohit', 'aniket', 'nakul', 'Rambo', 'saurabh', 'charlie', 'Rahul']\n"
     ]
    }
   ],
   "source": [
    "del ld[5]\n",
    "\n",
    "print(ld)"
   ]
  },
  {
   "cell_type": "code",
   "execution_count": null,
   "metadata": {},
   "outputs": [],
   "source": []
  }
 ],
 "metadata": {
  "kernelspec": {
   "display_name": "Python 3",
   "language": "python",
   "name": "python3"
  },
  "language_info": {
   "codemirror_mode": {
    "name": "ipython",
    "version": 3
   },
   "file_extension": ".py",
   "mimetype": "text/x-python",
   "name": "python",
   "nbconvert_exporter": "python",
   "pygments_lexer": "ipython3",
   "version": "3.7.6"
  }
 },
 "nbformat": 4,
 "nbformat_minor": 4
}
